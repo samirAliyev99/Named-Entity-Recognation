{
 "cells": [
  {
   "cell_type": "code",
   "execution_count": 27,
   "metadata": {
    "colab": {
     "base_uri": "https://localhost:8080/"
    },
    "executionInfo": {
     "elapsed": 4967,
     "status": "ok",
     "timestamp": 1614681378413,
     "user": {
      "displayName": "Igbal Huseynov",
      "photoUrl": "https://lh3.googleusercontent.com/a-/AOh14GiPdkrBaprHe_AF1qJ-cYiUJvv0XXLvbMF0LTWrqw=s64",
      "userId": "05911056417186893479"
     },
     "user_tz": -240
    },
    "id": "J_qGr_E0kJ3U",
    "outputId": "924407c3-4e54-4c48-8ca2-fd845ce8b406"
   },
   "outputs": [],
   "source": [
    "import pandas as pd\n",
    "import string, re\n",
    "from sklearn.model_selection import train_test_split\n",
    "\n",
    "import sklearn_crfsuite\n",
    "from sklearn_crfsuite import  metrics\n",
    "\n",
    "import pickle"
   ]
  },
  {
   "cell_type": "code",
   "execution_count": 28,
   "metadata": {
    "colab": {
     "base_uri": "https://localhost:8080/",
     "height": 419
    },
    "executionInfo": {
     "elapsed": 15973,
     "status": "ok",
     "timestamp": 1614681389464,
     "user": {
      "displayName": "Igbal Huseynov",
      "photoUrl": "https://lh3.googleusercontent.com/a-/AOh14GiPdkrBaprHe_AF1qJ-cYiUJvv0XXLvbMF0LTWrqw=s64",
      "userId": "05911056417186893479"
     },
     "user_tz": -240
    },
    "id": "kqNGnZg_mzFW",
    "outputId": "7f9f97cb-94b6-48ce-98a5-f0c834390532"
   },
   "outputs": [
    {
     "name": "stderr",
     "output_type": "stream",
     "text": [
      "d:\\onedrive - ada university\\projects\\python\\freelancer\\venv\\lib\\site-packages\\ipykernel_launcher.py:2: DeprecationWarning: The default dtype for empty Series will be 'object' instead of 'float64' in a future version. Specify a dtype explicitly to silence this warning.\n",
      "  \n"
     ]
    },
    {
     "name": "stdout",
     "output_type": "stream",
     "text": [
      "18609\n",
      "18610\n",
      "18611\n"
     ]
    },
    {
     "data": {
      "text/plain": "0        Salam men [albali kartin](card_type) limiti ar...\n1                                                     Beli\n2        <last_name> <first_name> <first_name> oglu <mo...\n3                         Yaxsi coxsagolun tewekkur edirem\n5                                                    Salam\n                               ...                        \n18606            Yeni [bir ilden sora](date) götürmek olar\n18607    Xanim sizi yoruram lap deqiwlesdirmek istiyire...\n18608    Salam [Albalinin](card_type) limitini artirmaq...\n18609    Salam mende [albali plus](card_type) varimdi l...\n18610    Salam [albali plus](card_type) limiti artirmaq...\nLength: 53933, dtype: object"
     },
     "execution_count": 28,
     "metadata": {},
     "output_type": "execute_result"
    }
   ],
   "source": [
    "sheet_names = ['1', '2', '4']\n",
    "data = pd.Series()\n",
    "\n",
    "for s in sheet_names:\n",
    "    x = pd.read_excel('entity_ext.xlsx', engine='openpyxl',\n",
    "                      sheet_name=s, usecols='C', header=None, dtype=str)\n",
    "    print(len(x))\n",
    "    # print(x[2])\n",
    "    data = data.append(x[2].dropna())\n",
    "\n",
    "data"
   ]
  },
  {
   "cell_type": "code",
   "execution_count": 29,
   "metadata": {
    "colab": {
     "base_uri": "https://localhost:8080/"
    },
    "executionInfo": {
     "elapsed": 17270,
     "status": "ok",
     "timestamp": 1614681390774,
     "user": {
      "displayName": "Igbal Huseynov",
      "photoUrl": "https://lh3.googleusercontent.com/a-/AOh14GiPdkrBaprHe_AF1qJ-cYiUJvv0XXLvbMF0LTWrqw=s64",
      "userId": "05911056417186893479"
     },
     "user_tz": -240
    },
    "id": "3EOadhFZH5WN",
    "outputId": "c907144f-347b-40f0-99ab-b73441ea4b75",
    "scrolled": true
   },
   "outputs": [
    {
     "name": "stdout",
     "output_type": "stream",
     "text": [
      "['name', 'app', 'loc', 'patronymic', 'card_type', 'surname', 'term', 'currency', 'date', 'amount', 'credit_type', 'weekdays', 'time', 'org', 'email', 'p_amount', 'Ot', 'o_system', 'deposit_type', 'pay_dev', 'phone']\n"
     ]
    }
   ],
   "source": [
    "def transform_to_dataset(tagged_sentences):\n",
    "    X, y = [], []\n",
    "    count = 0\n",
    "\n",
    "    for _, sentence in tagged_sentences.iteritems():\n",
    "\n",
    "        # print(sentence)\n",
    "        if len(sentence) < 2:\n",
    "            continue\n",
    "\n",
    "        count += 1\n",
    "\n",
    "        # words = re.findall(r\"\\[(.*?)]\", sentence)\n",
    "        # tags = re.findall(r\"\\((.*?)\\)\", sentence)\n",
    "\n",
    "        words = []\n",
    "        tags = []\n",
    "        i = j = 0\n",
    "\n",
    "        try:\n",
    "            while True:\n",
    "                sentence = sentence[j:]\n",
    "                i = sentence.index('[')\n",
    "                j = sentence.index(']')\n",
    "\n",
    "                if sentence[j + 1] != '(':  # no tag\n",
    "                    raise\n",
    "\n",
    "                words.append(sentence[i + 1:j])\n",
    "                sentence = sentence[j + 1:]\n",
    "\n",
    "                j = sentence.index(')')\n",
    "                tags.append(sentence[1:j])\n",
    "\n",
    "        except:\n",
    "            pass\n",
    "\n",
    "        # make sure their length are equal\n",
    "        if len(words) != len(tags):\n",
    "            print(_)\n",
    "            print(sentence)\n",
    "            print(words, tags)\n",
    "\n",
    "        # print(w)\n",
    "        X.append(words)\n",
    "        y.append(tags)\n",
    "\n",
    "    return X, y\n",
    "\n",
    "\n",
    "sents, tags = transform_to_dataset(data)\n",
    "print(list(set(sum(tags, []))))"
   ]
  },
  {
   "cell_type": "code",
   "execution_count": 30,
   "metadata": {
    "executionInfo": {
     "elapsed": 17273,
     "status": "ok",
     "timestamp": 1614681390780,
     "user": {
      "displayName": "Igbal Huseynov",
      "photoUrl": "https://lh3.googleusercontent.com/a-/AOh14GiPdkrBaprHe_AF1qJ-cYiUJvv0XXLvbMF0LTWrqw=s64",
      "userId": "05911056417186893479"
     },
     "user_tz": -240
    },
    "id": "uGEvRoUI6P4k"
   },
   "outputs": [],
   "source": [
    "def word2features(sent, i):\n",
    "    word = sent[i]\n",
    "\n",
    "    features = {\n",
    "        'bias': 1.0,\n",
    "        'word': word,\n",
    "        'len(word)': len(word),\n",
    "        'word[:4]': word[:4],\n",
    "        'word[:3]': word[:3],\n",
    "        'word[:2]': word[:2],\n",
    "        'word[-3:]': word[-3:],\n",
    "        'word[-2:]': word[-2:],\n",
    "        'word[-4:]': word[-4:],\n",
    "        'word.lower()': word.lower(),\n",
    "        'word.ispunctuation': (word in string.punctuation),\n",
    "        'word.isdigit()': word.isdigit(),\n",
    "    }\n",
    "    if i > 0:\n",
    "        word1 = sent[i-1]\n",
    "        features.update({\n",
    "            '-1:word': word1,\n",
    "            '-1:len(word)': len(word1),\n",
    "            '-1:word.lower()': word1.lower(),\n",
    "            '-1:word[:3]': word1[:3],\n",
    "            '-1:word[:2]': word1[:2],\n",
    "            '-1:word[-3:]': word1[-3:],\n",
    "            '-1:word[-2:]': word1[-2:],\n",
    "            '-1:word.isdigit()': word1.isdigit(),\n",
    "            '-1:word.ispunctuation': (word1 in string.punctuation),\n",
    "        })\n",
    "    else:\n",
    "        features['BOS'] = True\n",
    "    \n",
    "    if i > 1:\n",
    "        word2 = sent[i-2]\n",
    "        features.update({\n",
    "            '-2:word': word2,\n",
    "            '-2:len(word)': len(word2),\n",
    "            '-2:word.lower()': word2.lower(),\n",
    "            '-2:word[:3]': word2[:3],\n",
    "            '-2:word[:2]': word2[:2],\n",
    "            '-2:word[-3:]': word2[-3:],\n",
    "            '-2:word[-2:]': word2[-2:],\n",
    "            '-2:word.isdigit()': word2.isdigit(),\n",
    "            '-2:word.ispunctuation': (word2 in string.punctuation),\n",
    "        })\n",
    "\n",
    "    if i < len(sent)-1:\n",
    "        word1 = sent[i+1]\n",
    "        features.update({\n",
    "            '+1:word': word1,\n",
    "            '+1:len(word)': len(word1),\n",
    "            '+1:word.lower()': word1.lower(),\n",
    "            '+1:word[:3]': word1[:3],\n",
    "            '+1:word[:2]': word1[:2],\n",
    "            '+1:word[-3:]': word1[-3:],\n",
    "            '+1:word[-2:]': word1[-2:],\n",
    "            '+1:word.isdigit()': word1.isdigit(),\n",
    "            '+1:word.ispunctuation': (word1 in string.punctuation),\n",
    "        })\n",
    "\n",
    "    else:\n",
    "        features['EOS'] = True\n",
    "    if i < len(sent) - 2:\n",
    "        word2 = sent[i+2]\n",
    "        features.update({\n",
    "            '+2:word': word2,\n",
    "            '+2:len(word)': len(word2),\n",
    "            '+2:word.lower()': word2.lower(),\n",
    "            '+2:word[:3]': word2[:3],\n",
    "            '+2:word[:2]': word2[:2],\n",
    "            '+2:word[-3:]': word2[-3:],\n",
    "            '+2:word[-2:]': word2[-2:],\n",
    "            '+2:word.isdigit()': word2.isdigit(),\n",
    "            '+2:word.ispunctuation': (word2 in string.punctuation),\n",
    "        })\n",
    "\n",
    "    return features\n",
    "  \n",
    "def sent2features(sent):\n",
    "  return [word2features(sent, i) for i in range(len(sent))]\n"
   ]
  },
  {
   "cell_type": "code",
   "execution_count": 31,
   "metadata": {
    "executionInfo": {
     "elapsed": 17272,
     "status": "ok",
     "timestamp": 1614681390782,
     "user": {
      "displayName": "Igbal Huseynov",
      "photoUrl": "https://lh3.googleusercontent.com/a-/AOh14GiPdkrBaprHe_AF1qJ-cYiUJvv0XXLvbMF0LTWrqw=s64",
      "userId": "05911056417186893479"
     },
     "user_tz": -240
    },
    "id": "_QG90dSIxNBo"
   },
   "outputs": [],
   "source": [
    "trainDataX, testDataX, trainDatay, testDatay = train_test_split(sents, tags, test_size=0.10, random_state=42)"
   ]
  },
  {
   "cell_type": "code",
   "execution_count": 32,
   "metadata": {
    "executionInfo": {
     "elapsed": 17272,
     "status": "ok",
     "timestamp": 1614681390784,
     "user": {
      "displayName": "Igbal Huseynov",
      "photoUrl": "https://lh3.googleusercontent.com/a-/AOh14GiPdkrBaprHe_AF1qJ-cYiUJvv0XXLvbMF0LTWrqw=s64",
      "userId": "05911056417186893479"
     },
     "user_tz": -240
    },
    "id": "fPXQoSAutrM3"
   },
   "outputs": [],
   "source": [
    "Xtrain = [sent2features(s) for s in trainDataX]\n",
    "ytrain = trainDatay\n",
    "\n",
    "Xtest = [sent2features(s) for s in testDataX]\n",
    "ytest = testDatay"
   ]
  },
  {
   "cell_type": "code",
   "execution_count": 33,
   "metadata": {},
   "outputs": [],
   "source": [
    "# Xtrain"
   ]
  },
  {
   "cell_type": "code",
   "execution_count": 34,
   "metadata": {
    "colab": {
     "base_uri": "https://localhost:8080/"
    },
    "executionInfo": {
     "elapsed": 22600,
     "status": "ok",
     "timestamp": 1614681396124,
     "user": {
      "displayName": "Igbal Huseynov",
      "photoUrl": "https://lh3.googleusercontent.com/a-/AOh14GiPdkrBaprHe_AF1qJ-cYiUJvv0XXLvbMF0LTWrqw=s64",
      "userId": "05911056417186893479"
     },
     "user_tz": -240
    },
    "id": "mcHBA_kYwhd5",
    "outputId": "32b16a8a-9269-4974-9754-42cc28f475a9"
   },
   "outputs": [
    {
     "name": "stdout",
     "output_type": "stream",
     "text": [
      "47735 47735\n"
     ]
    },
    {
     "name": "stderr",
     "output_type": "stream",
     "text": [
      "d:\\onedrive - ada university\\projects\\python\\freelancer\\venv\\lib\\site-packages\\sklearn\\base.py:213: FutureWarning: From version 0.24, get_params will raise an AttributeError if a parameter cannot be retrieved as an instance attribute. Previously it would return None.\n",
      "  FutureWarning)\n"
     ]
    },
    {
     "data": {
      "text/plain": "CRF(algorithm='lbfgs', all_possible_transitions=True, c1=0.25, c2=0.3,\n    max_iterations=100)"
     },
     "execution_count": 34,
     "metadata": {},
     "output_type": "execute_result"
    }
   ],
   "source": [
    "crf = sklearn_crfsuite.CRF(\n",
    "    algorithm = 'lbfgs',\n",
    "    c1 = 0.25,\n",
    "    c2 = 0.3,\n",
    "    max_iterations = 100,\n",
    "    all_possible_transitions=True\n",
    ")\n",
    "\n",
    "print(len(Xtrain), len(ytrain))\n",
    "crf.fit(Xtrain, ytrain)                  \n",
    "#training the model"
   ]
  },
  {
   "cell_type": "code",
   "execution_count": 35,
   "metadata": {
    "colab": {
     "base_uri": "https://localhost:8080/"
    },
    "executionInfo": {
     "elapsed": 22906,
     "status": "ok",
     "timestamp": 1614681396432,
     "user": {
      "displayName": "Igbal Huseynov",
      "photoUrl": "https://lh3.googleusercontent.com/a-/AOh14GiPdkrBaprHe_AF1qJ-cYiUJvv0XXLvbMF0LTWrqw=s64",
      "userId": "05911056417186893479"
     },
     "user_tz": -240
    },
    "id": "M5JgkTBhzEM4",
    "outputId": "fcd25ed3-a8d2-4d88-e088-956e66936087"
   },
   "outputs": [
    {
     "name": "stdout",
     "output_type": "stream",
     "text": [
      "F1 score on the train set = 0.9937483836151744\n",
      "\n",
      "Accuracy on the train set = 0.993758387167244\n",
      "\n"
     ]
    },
    {
     "name": "stderr",
     "output_type": "stream",
     "text": [
      "d:\\onedrive - ada university\\projects\\python\\freelancer\\venv\\lib\\site-packages\\sklearn\\utils\\validation.py:71: FutureWarning: Pass labels=['surname', 'currency', 'date', 'card_type', 'amount', 'loc', 'pay_dev', 'org', 'Ot', 'time', 'name', 'term', 'app', 'credit_type', 'weekdays', 'phone', 'p_amount', 'patronymic', 'deposit_type', 'email', 'o_system'] as keyword args. From version 0.25 passing these as positional arguments will result in an error\n",
      "  FutureWarning)\n"
     ]
    },
    {
     "name": "stdout",
     "output_type": "stream",
     "text": [
      "Train set classification report: \n",
      "\n",
      "              precision    recall  f1-score   support\n",
      "\n",
      "     surname      0.987     1.000     0.993       147\n",
      "    currency      0.998     0.998     0.998      4151\n",
      "        date      0.995     0.989     0.992      2216\n",
      "   card_type      0.989     0.997     0.993      5270\n",
      "      amount      0.998     0.997     0.997      4297\n",
      "         loc      0.982     0.976     0.979       802\n",
      "     pay_dev      0.978     0.997     0.987       310\n",
      "         org      0.986     0.990     0.988      2213\n",
      "          Ot      0.999     0.998     0.999      7655\n",
      "        time      0.993     0.987     0.990       703\n",
      "        name      0.983     0.994     0.988       172\n",
      "        term      0.984     0.991     0.988      1442\n",
      "         app      0.986     0.964     0.975      1135\n",
      " credit_type      0.996     0.963     0.979       267\n",
      "    weekdays      0.993     1.000     0.996       268\n",
      "       phone      0.993     0.997     0.995       293\n",
      "    p_amount      0.998     0.996     0.997       531\n",
      "  patronymic      1.000     0.973     0.986       111\n",
      "deposit_type      1.000     0.929     0.963        56\n",
      "       email      1.000     1.000     1.000         1\n",
      "    o_system      1.000     1.000     1.000         3\n",
      "\n",
      "    accuracy                          0.994     32043\n",
      "   macro avg      0.992     0.987     0.990     32043\n",
      "weighted avg      0.994     0.994     0.994     32043\n",
      "\n",
      "F1 score on the test set = 0.9444294831194664\n",
      "\n",
      "Accuracy on the test set = 0.9453924914675768\n",
      "\n",
      "Test set classification report: \n",
      "\n",
      "              precision    recall  f1-score   support\n",
      "\n",
      "     surname      0.960     0.800     0.873        30\n",
      "    currency      0.992     0.996     0.994       481\n",
      "        date      0.935     0.942     0.938       258\n",
      "   card_type      0.962     0.981     0.972       593\n",
      "      amount      0.988     0.982     0.985       493\n",
      "         loc      0.855     0.797     0.825        74\n",
      "     pay_dev      0.963     0.743     0.839        35\n",
      "         org      0.871     0.886     0.878       228\n",
      "          Ot      0.925     0.985     0.954       777\n",
      "        time      0.922     0.798     0.855        89\n",
      "        name      0.889     0.615     0.727        13\n",
      "        term      0.899     0.882     0.890       152\n",
      "         app      0.947     0.864     0.904       125\n",
      " credit_type      0.941     0.615     0.744        26\n",
      "    weekdays      0.794     0.931     0.857        29\n",
      "       phone      1.000     0.844     0.915        32\n",
      "    p_amount      0.964     0.869     0.914        61\n",
      "  patronymic      1.000     0.812     0.897        16\n",
      "deposit_type      1.000     0.750     0.857         4\n",
      "       email      0.000     0.000     0.000         0\n",
      "    o_system      0.000     0.000     0.000         0\n",
      "\n",
      "   micro avg      0.945     0.945     0.945      3516\n",
      "   macro avg      0.848     0.766     0.801      3516\n",
      "weighted avg      0.946     0.945     0.944      3516\n",
      "\n"
     ]
    },
    {
     "name": "stderr",
     "output_type": "stream",
     "text": [
      "d:\\onedrive - ada university\\projects\\python\\freelancer\\venv\\lib\\site-packages\\sklearn\\metrics\\_classification.py:1465: UndefinedMetricWarning: F-score is ill-defined and being set to 0.0 in labels with no true nor predicted samples. Use `zero_division` parameter to control this behavior.\n",
      "  average, \"true nor predicted\", 'F-score is', len(true_sum)\n",
      "d:\\onedrive - ada university\\projects\\python\\freelancer\\venv\\lib\\site-packages\\sklearn\\metrics\\_classification.py:1221: UndefinedMetricWarning: Precision and F-score are ill-defined and being set to 0.0 in labels with no predicted samples. Use `zero_division` parameter to control this behavior.\n",
      "  _warn_prf(average, modifier, msg_start, len(result))\n",
      "d:\\onedrive - ada university\\projects\\python\\freelancer\\venv\\lib\\site-packages\\sklearn\\metrics\\_classification.py:1221: UndefinedMetricWarning: Recall and F-score are ill-defined and being set to 0.0 in labels with no true samples. Use `zero_division` parameter to control this behavior.\n",
      "  _warn_prf(average, modifier, msg_start, len(result))\n"
     ]
    }
   ],
   "source": [
    "labels = list(crf.classes_)\n",
    "\n",
    "ypred = crf.predict(Xtrain)\n",
    "print('F1 score on the train set = {}\\n'.format(metrics.flat_f1_score(ytrain, ypred, average='weighted', labels=labels)))\n",
    "print('Accuracy on the train set = {}\\n'.format(metrics.flat_accuracy_score(ytrain, ypred)))\n",
    "\n",
    "# sorted_labels = sorted(\n",
    "#     labels,\n",
    "#     key=lambda name: (name[1:], name[0])\n",
    "# )\n",
    "print('Train set classification report: \\n\\n{}'.format(metrics.flat_classification_report(\n",
    "ytrain, ypred, labels, digits=3\n",
    ")))\n",
    "#obtaining metrics such as accuracy, etc. on the test set\n",
    "ypred = crf.predict(Xtest)\n",
    "print('F1 score on the test set = {}\\n'.format(metrics.flat_f1_score(ytest, ypred,\n",
    "average='weighted', labels=labels)))\n",
    "print('Accuracy on the test set = {}\\n'.format(metrics.flat_accuracy_score(ytest, ypred)))\n",
    "\n",
    "# sorted_labels = sorted(\n",
    "#     labels,\n",
    "#     key=lambda name: (name[1:], name[0])\n",
    "# )\n",
    "print('Test set classification report: \\n\\n{}'.format(metrics.flat_classification_report(ytest, ypred, labels, digits=3)))"
   ]
  },
  {
   "cell_type": "code",
   "execution_count": 36,
   "metadata": {},
   "outputs": [],
   "source": [
    "\n",
    "filename = 'model/crf.sav'\n",
    "f = open(filename, 'wb')\n",
    "pickle.dump(crf, f)\n",
    "f.close()"
   ]
  },
  {
   "cell_type": "code",
   "execution_count": null,
   "outputs": [],
   "source": [],
   "metadata": {
    "collapsed": false,
    "pycharm": {
     "name": "#%%\n"
    }
   }
  }
 ],
 "metadata": {
  "accelerator": "GPU",
  "colab": {
   "authorship_tag": "ABX9TyNOyiZVnyZ3EZc+k+ThlnBp",
   "collapsed_sections": [],
   "name": "ConRanField.ipynb",
   "provenance": []
  },
  "kernelspec": {
   "display_name": "Python 3",
   "language": "python",
   "name": "python3"
  },
  "language_info": {
   "codemirror_mode": {
    "name": "ipython",
    "version": 3
   },
   "file_extension": ".py",
   "mimetype": "text/x-python",
   "name": "python",
   "nbconvert_exporter": "python",
   "pygments_lexer": "ipython3",
   "version": "3.7.4"
  }
 },
 "nbformat": 4,
 "nbformat_minor": 1
}